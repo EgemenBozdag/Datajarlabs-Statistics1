{
  "nbformat": 4,
  "nbformat_minor": 0,
  "metadata": {
    "colab": {
      "name": "Datajarlabs-Statistics1.ipynb",
      "provenance": []
    },
    "kernelspec": {
      "name": "python3",
      "display_name": "Python 3"
    }
  },
  "cells": [
    {
      "cell_type": "markdown",
      "metadata": {
        "id": "4Vgt7Hs3n3q8",
        "colab_type": "text"
      },
      "source": [
        "numpy kütüphanesini kullanarak üreteceğiniz 3 farklı veri aracılığı ile merkezi eğilim ve dağılım ölçümlerini hem yukarıda verilen matematiksel formülle hem de python'da hazır bulunan (built-in) kodlar aracılığıyla analiz edin!!!"
      ]
    },
    {
      "cell_type": "code",
      "metadata": {
        "id": "jDHew4A2nkxR",
        "colab_type": "code",
        "colab": {
          "base_uri": "https://localhost:8080/",
          "height": 419
        },
        "outputId": "23fbd18c-c0b6-4373-aca4-40841d6eac24"
      },
      "source": [
        "import numpy as np\n",
        "import pandas as pd\n",
        "\n",
        "football = pd.DataFrame()\n",
        "football['position'] = ['goal_keeper'] * 25 + ['defender'] * 25 + ['midfielder'] * 25 + ['forward'] * 25\n",
        "football['goals_scored'] = abs(np.append(np.random.normal(30, 8, 50), np.random.normal(45, 5, 50)))\n",
        "football['games_played'] = abs(np.append(np.random.normal(15, 8, 50), np.random.normal(25, 5, 50)))\n",
        "football"
      ],
      "execution_count": 22,
      "outputs": [
        {
          "output_type": "execute_result",
          "data": {
            "text/html": [
              "<div>\n",
              "<style scoped>\n",
              "    .dataframe tbody tr th:only-of-type {\n",
              "        vertical-align: middle;\n",
              "    }\n",
              "\n",
              "    .dataframe tbody tr th {\n",
              "        vertical-align: top;\n",
              "    }\n",
              "\n",
              "    .dataframe thead th {\n",
              "        text-align: right;\n",
              "    }\n",
              "</style>\n",
              "<table border=\"1\" class=\"dataframe\">\n",
              "  <thead>\n",
              "    <tr style=\"text-align: right;\">\n",
              "      <th></th>\n",
              "      <th>position</th>\n",
              "      <th>goals_scored</th>\n",
              "      <th>games_played</th>\n",
              "    </tr>\n",
              "  </thead>\n",
              "  <tbody>\n",
              "    <tr>\n",
              "      <th>0</th>\n",
              "      <td>goal_keeper</td>\n",
              "      <td>34.726405</td>\n",
              "      <td>0.474817</td>\n",
              "    </tr>\n",
              "    <tr>\n",
              "      <th>1</th>\n",
              "      <td>goal_keeper</td>\n",
              "      <td>21.816847</td>\n",
              "      <td>24.376048</td>\n",
              "    </tr>\n",
              "    <tr>\n",
              "      <th>2</th>\n",
              "      <td>goal_keeper</td>\n",
              "      <td>40.814429</td>\n",
              "      <td>14.569593</td>\n",
              "    </tr>\n",
              "    <tr>\n",
              "      <th>3</th>\n",
              "      <td>goal_keeper</td>\n",
              "      <td>33.287994</td>\n",
              "      <td>16.890811</td>\n",
              "    </tr>\n",
              "    <tr>\n",
              "      <th>4</th>\n",
              "      <td>goal_keeper</td>\n",
              "      <td>26.580206</td>\n",
              "      <td>6.569436</td>\n",
              "    </tr>\n",
              "    <tr>\n",
              "      <th>...</th>\n",
              "      <td>...</td>\n",
              "      <td>...</td>\n",
              "      <td>...</td>\n",
              "    </tr>\n",
              "    <tr>\n",
              "      <th>95</th>\n",
              "      <td>forward</td>\n",
              "      <td>42.973806</td>\n",
              "      <td>22.261027</td>\n",
              "    </tr>\n",
              "    <tr>\n",
              "      <th>96</th>\n",
              "      <td>forward</td>\n",
              "      <td>40.096655</td>\n",
              "      <td>25.879135</td>\n",
              "    </tr>\n",
              "    <tr>\n",
              "      <th>97</th>\n",
              "      <td>forward</td>\n",
              "      <td>39.539191</td>\n",
              "      <td>23.863693</td>\n",
              "    </tr>\n",
              "    <tr>\n",
              "      <th>98</th>\n",
              "      <td>forward</td>\n",
              "      <td>39.977707</td>\n",
              "      <td>13.333048</td>\n",
              "    </tr>\n",
              "    <tr>\n",
              "      <th>99</th>\n",
              "      <td>forward</td>\n",
              "      <td>49.743777</td>\n",
              "      <td>21.921870</td>\n",
              "    </tr>\n",
              "  </tbody>\n",
              "</table>\n",
              "<p>100 rows × 3 columns</p>\n",
              "</div>"
            ],
            "text/plain": [
              "       position  goals_scored  games_played\n",
              "0   goal_keeper     34.726405      0.474817\n",
              "1   goal_keeper     21.816847     24.376048\n",
              "2   goal_keeper     40.814429     14.569593\n",
              "3   goal_keeper     33.287994     16.890811\n",
              "4   goal_keeper     26.580206      6.569436\n",
              "..          ...           ...           ...\n",
              "95      forward     42.973806     22.261027\n",
              "96      forward     40.096655     25.879135\n",
              "97      forward     39.539191     23.863693\n",
              "98      forward     39.977707     13.333048\n",
              "99      forward     49.743777     21.921870\n",
              "\n",
              "[100 rows x 3 columns]"
            ]
          },
          "metadata": {
            "tags": []
          },
          "execution_count": 22
        }
      ]
    },
    {
      "cell_type": "markdown",
      "metadata": {
        "id": "85kHdzFiEg9B",
        "colab_type": "text"
      },
      "source": [
        "Central tendency without built-in codes"
      ]
    },
    {
      "cell_type": "code",
      "metadata": {
        "id": "PZsoW0xHEeJZ",
        "colab_type": "code",
        "colab": {
          "base_uri": "https://localhost:8080/",
          "height": 51
        },
        "outputId": "188ace17-64df-443c-bdef-0be538a024d4"
      },
      "source": [
        "var1 = sum ((football['goals_scored'])-(football['goals_scored']**2))\n",
        "var2 = len (football['goals_scored'])-1\n",
        "var = var1/var2\n",
        "print (var)"
      ],
      "execution_count": 27,
      "outputs": [
        {
          "output_type": "stream",
          "text": [
            "ERROR! Session/line number was not unique in database. History logging moved to new session 59\n",
            "-1420.9794886320765\n"
          ],
          "name": "stdout"
        }
      ]
    },
    {
      "cell_type": "code",
      "metadata": {
        "id": "KUJGo_NvEeXZ",
        "colab_type": "code",
        "colab": {
          "base_uri": "https://localhost:8080/",
          "height": 34
        },
        "outputId": "218ea927-9e49-48e2-abb5-2d1fcf5e397a"
      },
      "source": [
        "sd = var**1/2\n",
        "print(sd)"
      ],
      "execution_count": 30,
      "outputs": [
        {
          "output_type": "stream",
          "text": [
            "-710.4897443160382\n"
          ],
          "name": "stdout"
        }
      ]
    },
    {
      "cell_type": "code",
      "metadata": {
        "id": "65j_7wLaEeaw",
        "colab_type": "code",
        "colab": {
          "base_uri": "https://localhost:8080/",
          "height": 34
        },
        "outputId": "cfceefdd-c76c-4c22-8cc4-8b8f6cb3a252"
      },
      "source": [
        "se = sd / (len(football['goals_scored']))\n",
        "print (se)"
      ],
      "execution_count": 33,
      "outputs": [
        {
          "output_type": "stream",
          "text": [
            "-7.104897443160382\n"
          ],
          "name": "stdout"
        }
      ]
    },
    {
      "cell_type": "markdown",
      "metadata": {
        "id": "6jpyrKJfEhu6",
        "colab_type": "text"
      },
      "source": [
        "Central tendency with built-in codes"
      ]
    },
    {
      "cell_type": "code",
      "metadata": {
        "id": "gWJx8C3X-2dg",
        "colab_type": "code",
        "colab": {
          "base_uri": "https://localhost:8080/",
          "height": 34
        },
        "outputId": "3f6b440e-82eb-4cec-a86c-2471fddb1bd7"
      },
      "source": [
        "print(football['goals_scored'].var())"
      ],
      "execution_count": 24,
      "outputs": [
        {
          "output_type": "stream",
          "text": [
            "83.15826772253189\n"
          ],
          "name": "stdout"
        }
      ]
    },
    {
      "cell_type": "code",
      "metadata": {
        "id": "5jUMFrSGB0QU",
        "colab_type": "code",
        "colab": {
          "base_uri": "https://localhost:8080/",
          "height": 34
        },
        "outputId": "583f282a-97b2-42d6-fcf6-b619c281d954"
      },
      "source": [
        "np.std(football['goals_scored'], ddof=1)"
      ],
      "execution_count": 25,
      "outputs": [
        {
          "output_type": "execute_result",
          "data": {
            "text/plain": [
              "9.119115512073082"
            ]
          },
          "metadata": {
            "tags": []
          },
          "execution_count": 25
        }
      ]
    },
    {
      "cell_type": "code",
      "metadata": {
        "id": "WfTcPExpCJuH",
        "colab_type": "code",
        "colab": {
          "base_uri": "https://localhost:8080/",
          "height": 34
        },
        "outputId": "ec93f93a-04d1-4042-e3dc-9b282bd81f47"
      },
      "source": [
        "np.std(football['goals_scored'] ,ddof=1) / np.sqrt(len(football['goals_scored']))"
      ],
      "execution_count": 26,
      "outputs": [
        {
          "output_type": "execute_result",
          "data": {
            "text/plain": [
              "0.9119115512073082"
            ]
          },
          "metadata": {
            "tags": []
          },
          "execution_count": 26
        }
      ]
    },
    {
      "cell_type": "code",
      "metadata": {
        "id": "YZTtp0GvDoLj",
        "colab_type": "code",
        "colab": {}
      },
      "source": [
        "print(football['goals_scored'].var())"
      ],
      "execution_count": 0,
      "outputs": []
    }
  ]
}